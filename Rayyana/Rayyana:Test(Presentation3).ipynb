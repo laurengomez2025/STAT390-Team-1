{
  "cells": [
    {
      "cell_type": "raw",
      "id": "93809048",
      "metadata": {
        "id": "93809048"
      },
      "source": [
        "---\n",
        "title: \"Test Round\"\n",
        "format:\n",
        "  html:\n",
        "    toc: true\n",
        "    toc-title: Contents\n",
        "    toc-depth: 4\n",
        "    code-fold: show\n",
        "    self-contained: true\n",
        "    html-math-method: mathml\n",
        "jupyter: python3\n",
        "---"
      ]
    },
    {
      "cell_type": "markdown",
      "id": "a47a36ce",
      "metadata": {
        "id": "a47a36ce"
      },
      "source": [
        "Write an algorithm that extracts / identifies the epithelium layer in the conjunctival lesion image."
      ]
    },
    {
      "cell_type": "code",
      "execution_count": 2,
      "id": "af1c2919",
      "metadata": {
        "id": "af1c2919"
      },
      "outputs": [],
      "source": [
        "import cv2\n",
        "import numpy as np\n",
        "from PIL import Image, ImageFile"
      ]
    },
    {
      "cell_type": "code",
      "source": [
        "# WE CAME TO THE CONCLUSION THAT THIS DOESN'T WORK WELL, NOR DOES IT ACHIEVE THE OBJECTIVE RIGHT\n",
        "  # just wanted to post since some of the processes helped drive some other team members decisionmaking\n",
        "\n",
        "# upload sample files from auto-script provided by team 2\n",
        "\n",
        "# image link: https://drive.google.com/drive/folders/1isj_q68hJpH-LOhDiBrZmQL15DZOnAvy?usp=drive_link\n",
        "\n",
        "# goal this week: out of all the files I now have uploaded, can I match which ones are similar?\n",
        "  # can we find similarities between other stains as well? Are we able to match similar items regardless of stain to each other?"
      ],
      "metadata": {
        "id": "-JWYeUyLKYm1"
      },
      "id": "-JWYeUyLKYm1",
      "execution_count": 12,
      "outputs": []
    },
    {
      "cell_type": "code",
      "source": [
        "# same stain, different slices\n",
        "\n",
        "image_paths = ['h2114153h&e.tif', 'h2114154h&e.tif', 'h2114154h&e2.tif', 'h2114156h&e.tif', 'h2114156h&e2.tif', 'h2114157h&e.tif', 'h2114158h&e.tif', 'h2114158h&e2.tif']\n",
        "\n",
        "ImageFile.LOAD_TRUNCATED_IMAGES = True # used to remove errors\n",
        "\n",
        "def compare_images_pairwise(image_paths, similarity_threshold=0.15):\n",
        "    orb = cv2.ORB_create()\n",
        "\n",
        "    descriptors = []\n",
        "    keypoints = []\n",
        "    images = []\n",
        "\n",
        "    # Getting keypoints - this is what I got from what little from my 362 lecture I was referencing today\n",
        "    for path in image_paths:\n",
        "        try:\n",
        "            pil_image = Image.open(path)\n",
        "            img_rgb = np.array(pil_image.convert('RGB'))\n",
        "\n",
        "            # Convert the image from RGB to HSV using OpenCV\n",
        "            img_hsv = cv2.cvtColor(img_rgb, cv2.COLOR_RGB2HSV) # HSV works a lot better than when I tested RGB\n",
        "            kp, des = orb.detectAndCompute(img_hsv, None)\n",
        "\n",
        "            keypoints.append(kp)\n",
        "            descriptors.append(des)\n",
        "            images.append(path)\n",
        "        except Exception as e:\n",
        "            print(f\"Error loading image {path}: {e}\")\n",
        "            return\n",
        "\n",
        "    # NORM_HAMMING - uses 'distance' as a metric to help reference points\n",
        "    bf = cv2.BFMatcher(cv2.NORM_HAMMING)\n",
        "\n",
        "    for i in range(len(descriptors)):\n",
        "        for j in range(i + 1, len(descriptors)):  # Pairwise comparison\n",
        "            try:\n",
        "                # using 2 for now, might need to adjust after further conversations\n",
        "                matches = bf.knnMatch(descriptors[i], descriptors[j], k=2)\n",
        "\n",
        "                # ratios are very arbitrary\n",
        "                good_matches = []\n",
        "                for m, n in matches:\n",
        "                    if m.distance < 0.98 * n.distance: # tests a few values here\n",
        "                        good_matches.append(m)\n",
        "\n",
        "                # Measure the percentage of good matches relative to keypoints in the first image\n",
        "                match_ratio = len(good_matches) / len(keypoints[i])\n",
        "                  # This threshold doesn't mean anything, and we realized it isn't a good determinant\n",
        "\n",
        "                if match_ratio > similarity_threshold:\n",
        "                    print(f\"Images {images[i]} and {images[j]} are similar (good match ratio: {match_ratio:.2f})\")\n",
        "                else:\n",
        "                    print(f\"Images {images[i]} and {images[j]} are different (good match ratio: {match_ratio:.2f})\")\n",
        "            except Exception as e:\n",
        "                print(f\"Error comparing {images[i]} and {images[j]}: {e}\")\n",
        "\n",
        "compare_images_pairwise(image_paths, similarity_threshold=0.1)\n"
      ],
      "metadata": {
        "id": "5kSn_pJ7gf03",
        "colab": {
          "base_uri": "https://localhost:8080/"
        },
        "outputId": "15a4d336-1084-4d94-834b-4922e7814545"
      },
      "id": "5kSn_pJ7gf03",
      "execution_count": null,
      "outputs": [
        {
          "output_type": "stream",
          "name": "stdout",
          "text": [
            "Images h2114153h&e.tif and h2114154h&e.tif are similar (good match ratio: 0.75)\n",
            "Images h2114153h&e.tif and h2114154h&e2.tif are similar (good match ratio: 0.71)\n",
            "Images h2114153h&e.tif and h2114156h&e.tif are similar (good match ratio: 0.76)\n",
            "Images h2114153h&e.tif and h2114156h&e2.tif are similar (good match ratio: 0.73)\n",
            "Images h2114153h&e.tif and h2114157h&e.tif are similar (good match ratio: 0.75)\n",
            "Images h2114153h&e.tif and h2114158h&e.tif are similar (good match ratio: 0.74)\n",
            "Images h2114153h&e.tif and h2114158h&e2.tif are similar (good match ratio: 0.71)\n",
            "Images h2114154h&e.tif and h2114154h&e2.tif are similar (good match ratio: 0.70)\n",
            "Images h2114154h&e.tif and h2114156h&e.tif are similar (good match ratio: 0.71)\n",
            "Images h2114154h&e.tif and h2114156h&e2.tif are similar (good match ratio: 0.74)\n",
            "Images h2114154h&e.tif and h2114157h&e.tif are similar (good match ratio: 0.73)\n",
            "Images h2114154h&e.tif and h2114158h&e.tif are similar (good match ratio: 0.76)\n",
            "Images h2114154h&e.tif and h2114158h&e2.tif are similar (good match ratio: 0.74)\n",
            "Images h2114154h&e2.tif and h2114156h&e.tif are similar (good match ratio: 0.72)\n",
            "Images h2114154h&e2.tif and h2114156h&e2.tif are similar (good match ratio: 0.74)\n",
            "Images h2114154h&e2.tif and h2114157h&e.tif are similar (good match ratio: 0.68)\n",
            "Images h2114154h&e2.tif and h2114158h&e.tif are similar (good match ratio: 0.72)\n",
            "Images h2114154h&e2.tif and h2114158h&e2.tif are similar (good match ratio: 0.72)\n",
            "Images h2114156h&e.tif and h2114156h&e2.tif are similar (good match ratio: 0.69)\n",
            "Images h2114156h&e.tif and h2114157h&e.tif are similar (good match ratio: 0.67)\n",
            "Images h2114156h&e.tif and h2114158h&e.tif are similar (good match ratio: 0.74)\n",
            "Images h2114156h&e.tif and h2114158h&e2.tif are similar (good match ratio: 0.71)\n",
            "Images h2114156h&e2.tif and h2114157h&e.tif are similar (good match ratio: 0.73)\n",
            "Images h2114156h&e2.tif and h2114158h&e.tif are similar (good match ratio: 0.69)\n",
            "Images h2114156h&e2.tif and h2114158h&e2.tif are similar (good match ratio: 0.71)\n",
            "Images h2114157h&e.tif and h2114158h&e.tif are similar (good match ratio: 0.76)\n",
            "Images h2114157h&e.tif and h2114158h&e2.tif are similar (good match ratio: 0.70)\n",
            "Images h2114158h&e.tif and h2114158h&e2.tif are similar (good match ratio: 0.71)\n"
          ]
        }
      ]
    },
    {
      "cell_type": "code",
      "source": [
        "# different stains and trying to match to the same slices\n",
        "# taking everything as grayscale so that just shape and edges are considered, not color gradient or anything like that\n",
        "\n",
        "image_paths = ['h2114153h&e.tif', 'h2114153melan.tif', 'h2114153melan2.tif', 'h2114153sox10.tif',\n",
        "               'h2114154h&e.tif', 'h2114154h&e2.tif', 'h2114154melan.tif', 'h2114154melan2.tif', 'h2114154sox10.tif',\n",
        "               'h2114156h&e.tif', 'h2114156h&e2.tif', 'h2114156melan.tif', 'h2114156melan2.tif', 'h2114156sox10.tif',\n",
        "               'h2114157h&e.tif', 'h2114157sox10.tif',\n",
        "               'h2114158h&e.tif', 'h2114158h&e2.tif', 'h2114158melan.tif', 'h2114158melan2.tif']\n",
        "\n",
        "\n",
        "def compare_images_different_stains(image_paths, similarity_threshold=0.15):\n",
        "    orb = cv2.ORB_create()\n",
        "\n",
        "    descriptors = []\n",
        "    keypoints = []\n",
        "    images = []\n",
        "\n",
        "    # Detect and compute keypoints and descriptors for all images\n",
        "    for path in image_paths:\n",
        "        try:\n",
        "            pil_image = Image.open(path)\n",
        "            img_rgb = np.array(pil_image.convert('RGB'))\n",
        "\n",
        "            # Reverting back to a more basic structure that we did the first week\n",
        "            img_gray = cv2.cvtColor(img_rgb, cv2.COLOR_RGB2GRAY)\n",
        "\n",
        "            # Apply Canny edge detection on the grayscale image - like the first week\n",
        "            img_edges = cv2.Canny(img_gray, 100, 200)\n",
        "\n",
        "            # Compute keypoints and descriptors using ORB on the edge-detected image\n",
        "            kp, des = orb.detectAndCompute(img_edges, None)\n",
        "\n",
        "            keypoints.append(kp)\n",
        "            descriptors.append(des)\n",
        "            images.append(path)\n",
        "        except Exception as e:\n",
        "            print(f\"Error loading image {path}: {e}\")\n",
        "            return\n",
        "\n",
        "    bf = cv2.BFMatcher(cv2.NORM_HAMMING)\n",
        "\n",
        "    for i in range(len(descriptors)):\n",
        "        for j in range(i + 1, len(descriptors)):\n",
        "            try:\n",
        "                matches = bf.knnMatch(descriptors[i], descriptors[j], k=2)\n",
        "\n",
        "                good_matches = []\n",
        "                for m, n in matches:\n",
        "                    if m.distance < 0.75 * n.distance:\n",
        "                        good_matches.append(m)\n",
        "                match_ratio = len(good_matches) / len(keypoints[i])\n",
        "\n",
        "                # We realized that this really doesn't help with deciphering as much as we thought\n",
        "                if match_ratio > similarity_threshold and match_ratio > 0.60:\n",
        "                    print(f\"Images {images[i]} and {images[j]} good match ratio: {match_ratio:.2f}\")\n",
        "            except Exception as e:\n",
        "                print(f\"Error comparing {images[i]} and {images[j]}: {e}\")\n",
        "\n",
        "# Compare images pairwise\n",
        "compare_images_different_stains(image_paths, similarity_threshold=0.1)\n"
      ],
      "metadata": {
        "id": "4p-EfMZEoMDd"
      },
      "id": "4p-EfMZEoMDd",
      "execution_count": 11,
      "outputs": []
    }
  ],
  "metadata": {
    "kernelspec": {
      "display_name": "Python 3 (ipykernel)",
      "language": "python",
      "name": "python3"
    },
    "language_info": {
      "codemirror_mode": {
        "name": "ipython",
        "version": 3
      },
      "file_extension": ".py",
      "mimetype": "text/x-python",
      "name": "python",
      "nbconvert_exporter": "python",
      "pygments_lexer": "ipython3",
      "version": "3.9.13"
    },
    "colab": {
      "provenance": []
    }
  },
  "nbformat": 4,
  "nbformat_minor": 5
}